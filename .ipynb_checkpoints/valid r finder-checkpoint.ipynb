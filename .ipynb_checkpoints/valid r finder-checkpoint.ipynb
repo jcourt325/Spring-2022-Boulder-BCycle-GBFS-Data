{
 "cells": [
  {
   "cell_type": "code",
   "execution_count": 5,
   "metadata": {},
   "outputs": [
    {
     "name": "stdout",
     "output_type": "stream",
     "text": [
      "1: False\n",
      "2: False\n",
      "3: True\n",
      "4: False\n",
      "5: True\n",
      "6: False\n"
     ]
    }
   ],
   "source": [
    "p = 7\n",
    "\n",
    "for r in range(1, p):\n",
    "    results = []\n",
    "    bad = False\n",
    "    for x in range(0, p-1):\n",
    "        result = pow(r, x) % p\n",
    "        if result in results:\n",
    "            bad = True\n",
    "            break\n",
    "        results.append(result)\n",
    "    \n",
    "    print(\"{}: {}\".format(r, not bad))"
   ]
  },
  {
   "cell_type": "code",
   "execution_count": null,
   "metadata": {},
   "outputs": [],
   "source": []
  }
 ],
 "metadata": {
  "kernelspec": {
   "display_name": "Python 3",
   "language": "python",
   "name": "python3"
  },
  "language_info": {
   "codemirror_mode": {
    "name": "ipython",
    "version": 3
   },
   "file_extension": ".py",
   "mimetype": "text/x-python",
   "name": "python",
   "nbconvert_exporter": "python",
   "pygments_lexer": "ipython3",
   "version": "3.8.3"
  }
 },
 "nbformat": 4,
 "nbformat_minor": 4
}
